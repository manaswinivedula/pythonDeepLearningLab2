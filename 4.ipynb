{
  "nbformat": 4,
  "nbformat_minor": 0,
  "metadata": {
    "colab": {
      "name": "4",
      "provenance": [],
      "collapsed_sections": [],
      "include_colab_link": true
    },
    "kernelspec": {
      "name": "python3",
      "display_name": "Python 3"
    }
  },
  "cells": [
    {
      "cell_type": "markdown",
      "metadata": {
        "id": "view-in-github",
        "colab_type": "text"
      },
      "source": [
        "<a href=\"https://colab.research.google.com/github/manaswinivedula/pythonDeepLearningLab2/blob/master/4.ipynb\" target=\"_parent\"><img src=\"https://colab.research.google.com/assets/colab-badge.svg\" alt=\"Open In Colab\"/></a>"
      ]
    },
    {
      "cell_type": "code",
      "metadata": {
        "id": "-K8wnJoapRap",
        "colab_type": "code",
        "outputId": "40f96f89-333b-4f5c-d4e6-7f23434dbf64",
        "colab": {
          "base_uri": "https://localhost:8080/",
          "height": 487
        }
      },
      "source": [
        "import re\n",
        "from keras.layers.convolutional import MaxPooling1D\n",
        "from keras.optimizers import Adam\n",
        "from keras.layers import Dense, Dropout, Reshape, Flatten, concatenate, Input, Conv1D, GlobalMaxPooling1D, Embedding\n",
        "import matplotlib\n",
        "import numpy as np\n",
        "import pandas as pd\n",
        "from keras.preprocessing import sequence\n",
        "from keras.models import Sequential\n",
        "from keras.layers import Dense, Embedding\n",
        "from keras.layers import LSTM\n",
        "from keras.utils import to_categorical\n",
        "from keras.preprocessing.text import Tokenizer\n",
        "from keras.preprocessing.sequence import pad_sequences\n",
        "\n",
        "\n",
        "import matplotlib.pyplot as plt\n",
        "\n",
        "df_train = pd.read_csv('train.tsv', sep='\\t')\n",
        "df_test = pd.read_csv('test.tsv', sep='\\t')\n",
        "\n",
        "##Data preprocessing\n",
        "#we make text lower case and leave only letters from a-z and digits\n",
        "df_train['Phrase'] = df_train['Phrase'].str.lower()\n",
        "df_train['Phrase'] = df_train['Phrase'].apply((lambda x: re.sub('[^a-zA-z0-9\\s]','',x)))\n",
        "df_test['Phrase'] = df_test['Phrase'].str.lower()\n",
        "df_test['Phrase'] = df_test['Phrase'].apply((lambda x: re.sub('[^a-zA-z0-9\\s]','',x)))\n",
        "X_train = df_train.Phrase\n",
        "y_train = df_train.Sentiment\n",
        "max_fatures = 2000\n",
        "tokenize = Tokenizer(num_words=max_fatures, split=' ')\n",
        "tokenize.fit_on_texts(X_train.values)\n",
        "X_test = df_test.Phrase\n",
        "X_train = tokenize.texts_to_sequences(X_train)\n",
        "X_test = tokenize.texts_to_sequences(X_test)\n",
        "max_lenght = max([len(s.split()) for s in df_train['Phrase']])\n",
        "X_train = pad_sequences(X_train, max_lenght)\n",
        "X_test = pad_sequences(X_test, max_lenght)\n",
        "print(X_train.shape)\n",
        "print(X_test.shape)\n",
        "\n",
        "##Model building\n",
        "model=Sequential()\n",
        "model.add(Embedding(max_fatures, output_dim=100,input_length=48))\n",
        "model.add(LSTM(128,dropout=0.5, recurrent_dropout=0.5,return_sequences=True))\n",
        "model.add(LSTM(64,dropout=0.5, recurrent_dropout=0.5,return_sequences=False))\n",
        "model.add(Dense(100,activation='relu'))\n",
        "model.add(Dropout(0.5))\n",
        "model.add(Dense(5,activation='softmax'))\n",
        "model.compile(loss='sparse_categorical_crossentropy',optimizer=Adam(lr=0.001),metrics=['accuracy'])\n",
        "model.summary()\n",
        "\n",
        "history = model.fit(X_train, y_train, epochs=3, verbose=True,  batch_size=1024)"
      ],
      "execution_count": 35,
      "outputs": [
        {
          "output_type": "stream",
          "text": [
            "(156060, 48)\n",
            "(66292, 48)\n",
            "Model: \"sequential_7\"\n",
            "_________________________________________________________________\n",
            "Layer (type)                 Output Shape              Param #   \n",
            "=================================================================\n",
            "embedding_7 (Embedding)      (None, 48, 100)           200000    \n",
            "_________________________________________________________________\n",
            "lstm_8 (LSTM)                (None, 48, 128)           117248    \n",
            "_________________________________________________________________\n",
            "lstm_9 (LSTM)                (None, 64)                49408     \n",
            "_________________________________________________________________\n",
            "dense_8 (Dense)              (None, 100)               6500      \n",
            "_________________________________________________________________\n",
            "dropout_2 (Dropout)          (None, 100)               0         \n",
            "_________________________________________________________________\n",
            "dense_9 (Dense)              (None, 5)                 505       \n",
            "=================================================================\n",
            "Total params: 373,661\n",
            "Trainable params: 373,661\n",
            "Non-trainable params: 0\n",
            "_________________________________________________________________\n",
            "Epoch 1/3\n",
            "156060/156060 [==============================] - 307s 2ms/step - loss: 1.2467 - acc: 0.5152\n",
            "Epoch 2/3\n",
            "156060/156060 [==============================] - 301s 2ms/step - loss: 1.1320 - acc: 0.5599\n",
            "Epoch 3/3\n",
            "156060/156060 [==============================] - 302s 2ms/step - loss: 1.0412 - acc: 0.5959\n"
          ],
          "name": "stdout"
        }
      ]
    },
    {
      "cell_type": "code",
      "metadata": {
        "id": "sxXYOH60q8pE",
        "colab_type": "code",
        "outputId": "d637b3c9-49a5-48c9-ac13-1fc69f04cf60",
        "colab": {
          "base_uri": "https://localhost:8080/",
          "height": 302
        }
      },
      "source": [
        " fig1 = plt.figure()\n",
        "plt.plot(history.history['loss'], 'r', linewidth=3.0)\n",
        "plt.plot(history.history['acc'], 'b', linewidth=3.0)\n",
        "plt.legend(['loss', 'accuracy'], fontsize=18)\n",
        "plt.xlabel(' ', fontsize=16)\n",
        "plt.ylabel('Loss', fontsize=16)\n",
        "plt.title('Loss and accuracy curves : ', fontsize=16)\n",
        "fig1.savefig('loss_lstm.png')\n",
        "\n",
        "\n"
      ],
      "execution_count": 36,
      "outputs": [
        {
          "output_type": "display_data",
          "data": {
            "image/png": "[encoded data removed]",
            "text/plain": [
              "<Figure size 432x288 with 1 Axes>"
            ]
          },
          "metadata": {
            "tags": []
          }
        }
      ]
    },
    {
      "cell_type": "code",
      "metadata": {
        "id": "Bzxyj1EhjTSN",
        "colab_type": "code",
        "colab": {}
      },
      "source": [
        ""
      ],
      "execution_count": 0,
      "outputs": []
    },
    {
      "cell_type": "code",
      "metadata": {
        "id": "2zR8Af4HgD0d",
        "colab_type": "code",
        "colab": {}
      },
      "source": [
        ""
      ],
      "execution_count": 0,
      "outputs": []
    },
    {
      "cell_type": "code",
      "metadata": {
        "id": "XHgTK9ehrMeE",
        "colab_type": "code",
        "colab": {}
      },
      "source": [
        ""
      ],
      "execution_count": 0,
      "outputs": []
    },
    {
      "cell_type": "code",
      "metadata": {
        "id": "j8s2WsQFsI7l",
        "colab_type": "code",
        "colab": {}
      },
      "source": [
        ""
      ],
      "execution_count": 0,
      "outputs": []
    }
  ]
}