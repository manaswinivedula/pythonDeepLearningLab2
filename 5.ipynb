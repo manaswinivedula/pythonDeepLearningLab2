{
  "nbformat": 4,
  "nbformat_minor": 0,
  "metadata": {
    "colab": {
      "name": "5",
      "provenance": [],
      "machine_shape": "hm",
      "include_colab_link": true
    },
    "kernelspec": {
      "name": "python3",
      "display_name": "Python 3"
    }
  },
  "cells": [
    {
      "cell_type": "markdown",
      "metadata": {
        "id": "view-in-github",
        "colab_type": "text"
      },
      "source": [
        "<a href=\"https://colab.research.google.com/github/manaswinivedula/pythonDeepLearningLab2/blob/master/5.ipynb\" target=\"_parent\"><img src=\"https://colab.research.google.com/assets/colab-badge.svg\" alt=\"Open In Colab\"/></a>"
      ]
    },
    {
      "cell_type": "code",
      "metadata": {
        "id": "zTqejDbrxrah",
        "colab_type": "code",
        "colab": {}
      },
      "source": [
        ""
      ],
      "execution_count": 0,
      "outputs": []
    },
    {
      "cell_type": "code",
      "metadata": {
        "id": "i4tJj2FV5IMT",
        "colab_type": "code",
        "outputId": "94abfb72-7962-4ed3-ca25-5bb9bf2a487b",
        "colab": {
          "base_uri": "https://localhost:8080/",
          "height": 726
        }
      },
      "source": [
        "import re\n",
        "from keras.layers.convolutional import MaxPooling1D\n",
        "from keras.optimizers import Adam\n",
        "from keras.layers import Dense, Dropout, Reshape, Flatten, concatenate, Input, Conv1D, GlobalMaxPooling1D, Embedding\n",
        "import matplotlib\n",
        "import numpy as np\n",
        "import pandas as pd\n",
        "from keras.preprocessing import sequence\n",
        "from keras.models import Sequential\n",
        "from keras.layers import Dense, Embedding\n",
        "from keras.layers import LSTM\n",
        "from keras.utils import to_categorical\n",
        "from keras.preprocessing.text import Tokenizer\n",
        "from keras.preprocessing.sequence import pad_sequences\n",
        "\n",
        "import nltk\n",
        "nltk.download('stopwords')\n",
        "from nltk.corpus import stopwords\n",
        "from nltk.tokenize import word_tokenize\n",
        "from sklearn.feature_extraction.text import CountVectorizer\n",
        "vect = CountVectorizer()\n",
        "from sklearn import metrics\n",
        "import seaborn as sns\n",
        "import matplotlib.pyplot as plt\n",
        "df_tra = pd.read_csv('train.tsv', sep='\\t')\n",
        "df_test = pd.read_csv('test.tsv', sep='\\t')\n",
        "df_tra['Phrase'] = df_tra['Phrase'].str.lower()\n",
        "df_tra['Phrase'] = df_tra['Phrase'].apply((lambda x: re.sub('[^a-zA-z0-9\\s]','',x)))\n",
        "df_te['Phrase'] = df_test['Phrase'].str.lower()\n",
        "df_test['Phrase'] = df_test['Phrase'].apply((lambda x: re.sub('[^a-zA-z0-9\\s]','',x)))\n",
        "X_train = df_train.Phrase\n",
        "y_train = df_train.Sentiment\n",
        "max_features = 2000\n",
        "tok = Tokenizer(num_words=max_fatures, split=' ')\n",
        "tok.fit_on_texts(X_train.values)\n",
        "X_test = df_test.Phrase\n",
        "X_tra = tok.texts_to_sequences(X_train)\n",
        "X_test = tok.texts_to_sequences(X_test)\n",
        "max_lenght = max([len(s.split()) for s in df_train['Phrase']])\n",
        "X_train = pad_sequences(X_train, max_lenght)\n",
        "X_test = pad_sequences(X_test, max_lenght)\n",
        "print(X_train.shape)\n",
        "print(X_test.shape)\n",
        "\n",
        "##Model building\n",
        "model=Sequential()\n",
        "model.add(Embedding(max_fatures, output_dim=100,input_length=48))\n",
        "model.add(Conv1D(filters=64, kernel_size=5, activation='relu', padding='causal'))\n",
        "model.add(MaxPooling1D(pool_size=2))\n",
        "model.add(Conv1D(filters=64, kernel_size=5, activation='relu', padding='causal'))\n",
        "model.add(MaxPooling1D(pool_size=2))\n",
        "model.add(Dropout(0.7))\n",
        "model.add(Dense(100,activation='relu'))\n",
        "model.add(Dropout(0.5))\n",
        "model.add(Flatten())\n",
        "model.add(Dense(5,activation='softmax'))\n",
        "model.compile(loss='sparse_categorical_crossentropy',optimizer=Adam(lr=0.001),metrics=['accuracy'])\n",
        "model.summary()\n",
        "history = model.fit(X_train, y_train, epochs=4, verbose=True,  batch_size=1024)\n"
      ],
      "execution_count": 50,
      "outputs": [
        {
          "output_type": "stream",
          "text": [
            "[nltk_data] Downloading package stopwords to /root/nltk_data...\n",
            "[nltk_data]   Unzipping corpora/stopwords.zip.\n",
            "(156060, 48)\n",
            "(66292, 48)\n",
            "WARNING:tensorflow:Large dropout rate: 0.7 (>0.5). In TensorFlow 2.x, dropout() uses dropout rate instead of keep_prob. Please ensure that this is intended.\n",
            "Model: \"sequential_15\"\n",
            "_________________________________________________________________\n",
            "Layer (type)                 Output Shape              Param #   \n",
            "=================================================================\n",
            "embedding_15 (Embedding)     (None, 48, 100)           200000    \n",
            "_________________________________________________________________\n",
            "conv1d_17 (Conv1D)           (None, 48, 64)            32064     \n",
            "_________________________________________________________________\n",
            "max_pooling1d_9 (MaxPooling1 (None, 24, 64)            0         \n",
            "_________________________________________________________________\n",
            "conv1d_18 (Conv1D)           (None, 24, 64)            20544     \n",
            "_________________________________________________________________\n",
            "max_pooling1d_10 (MaxPooling (None, 12, 64)            0         \n",
            "_________________________________________________________________\n",
            "dropout_32 (Dropout)         (None, 12, 64)            0         \n",
            "_________________________________________________________________\n",
            "dense_28 (Dense)             (None, 12, 100)           6500      \n",
            "_________________________________________________________________\n",
            "dropout_33 (Dropout)         (None, 12, 100)           0         \n",
            "_________________________________________________________________\n",
            "flatten_9 (Flatten)          (None, 1200)              0         \n",
            "_________________________________________________________________\n",
            "dense_29 (Dense)             (None, 5)                 6005      \n",
            "=================================================================\n",
            "Total params: 265,113\n",
            "Trainable params: 265,113\n",
            "Non-trainable params: 0\n",
            "_________________________________________________________________\n",
            "Epoch 1/4\n",
            "156060/156060 [==============================] - 42s 267us/step - loss: 1.2680 - acc: 0.5029\n",
            "Epoch 2/4\n",
            "156060/156060 [==============================] - 40s 255us/step - loss: 1.1462 - acc: 0.5506\n",
            "Epoch 3/4\n",
            "156060/156060 [==============================] - 41s 262us/step - loss: 1.0788 - acc: 0.5774\n",
            "Epoch 4/4\n",
            "156060/156060 [==============================] - 40s 255us/step - loss: 1.0363 - acc: 0.5940\n"
          ],
          "name": "stdout"
        }
      ]
    },
    {
      "cell_type": "code",
      "metadata": {
        "id": "OBSga0eqDxXB",
        "colab_type": "code",
        "outputId": "e5de16e5-54c9-4c3f-87df-6bf923b8eb2c",
        "colab": {
          "base_uri": "https://localhost:8080/",
          "height": 302
        }
      },
      "source": [
        "import matplotlib.pyplot as plt\n",
        "fig1 = plt.figure()\n",
        "plt.plot(history.history['loss'], 'r', linewidth=3.0)\n",
        "plt.plot(history.history['acc'], 'b', linewidth=3.0)\n",
        "plt.legend(['loss', 'accuracy'], fontsize=18)\n",
        "plt.xlabel(' ', fontsize=16)\n",
        "plt.ylabel('Loss', fontsize=16)\n",
        "plt.title('Loss and accuracy curves : ', fontsize=16)\n",
        "fig1.savefig('loss_lstm.png')"
      ],
      "execution_count": 49,
      "outputs": [
        {
          "output_type": "display_data",
          "data": {
            "image/png": "[encoded data removed]",
            "text/plain": [
              "<Figure size 432x288 with 1 Axes>"
            ]
          },
          "metadata": {
            "tags": []
          }
        }
      ]
    },
    {
      "cell_type": "code",
      "metadata": {
        "id": "vVO5CDhavGQV",
        "colab_type": "code",
        "colab": {}
      },
      "source": [
        ""
      ],
      "execution_count": 0,
      "outputs": []
    }
  ]
}