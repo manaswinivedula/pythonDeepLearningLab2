{
  "nbformat": 4,
  "nbformat_minor": 0,
  "metadata": {
    "colab": {
      "name": "7",
      "provenance": [],
      "include_colab_link": true
    },
    "kernelspec": {
      "name": "python3",
      "display_name": "Python 3"
    }
  },
  "cells": [
    {
      "cell_type": "markdown",
      "metadata": {
        "id": "view-in-github",
        "colab_type": "text"
      },
      "source": [
        "<a href=\"https://colab.research.google.com/github/manaswinivedula/pythonDeepLearningLab2/blob/master/7.ipynb\" target=\"_parent\"><img src=\"https://colab.research.google.com/assets/colab-badge.svg\" alt=\"Open In Colab\"/></a>"
      ]
    },
    {
      "cell_type": "code",
      "metadata": {
        "id": "YQsa77TVfJ-Y",
        "colab_type": "code",
        "outputId": "de56f357-9940-4ad4-fecc-64da049bab5d",
        "colab": {
          "base_uri": "https://localhost:8080/",
          "height": 940
        }
      },
      "source": [
        "from keras.layers import Input, Dense\n",
        "from keras.models import Model\n",
        "from keras.callbacks import TensorBoard\n",
        "from keras import regularizers\n",
        "\n",
        "# number of neurons in the encoded layer\n",
        "encoding_dimensions = 32  \n",
        "\n",
        "# Input placeholder\n",
        "input_image = Input(shape=(784,))\n",
        "\n",
        "encoded = Dense(128, activation='relu')(input_image)\n",
        "encoded = Dense(128, activation='relu')(encoded)\n",
        "\n",
        "# encoded representation of the input\n",
        "encoded = Dense(encoding_dimensions, activation='relu', activity_regularizer=regularizers.l1(1e-7))(encoded)\n",
        "\n",
        "# decoded is the reconstructed representation of an input\n",
        "decoded = Dense(784, activation='sigmoid')(input_image)\n",
        "decoded = Dense(784, activation='sigmoid')(encoded)\n",
        "\n",
        "# Model that maps an input to its reconstructed (decoded) representation\n",
        "autoencoder = Model(input_image, decoded)\n",
        "\n",
        "# Model that maps an input to its encoded representation\n",
        "encoder = Model(input_image, encoded)\n",
        "\n",
        "# Creating a placeholder for an encoded input which has 32 dimensions\n",
        "encoded_input = Input(shape=(encoding_dimensions,))\n",
        "\n",
        "# Loading the last layer of autoencoder\n",
        "decoder_layer = autoencoder.layers[-1]\n",
        "\n",
        "# Creating Decoder model\n",
        "decoder = Model(encoded_input, decoder_layer(encoded_input))\n",
        "autoencoder.compile(optimizer='adadelta', loss='binary_crossentropy', metrics=['accuracy'])\n",
        "\n",
        "# Loading dataset\n",
        "\n",
        "from keras.datasets import mnist\n",
        "import numpy as np\n",
        "(x_train, _), (x_test, _) = mnist.load_data()\n",
        "\n",
        "# Normalize data to be in range  0 to 1\n",
        "\n",
        "x_train = x_train.astype('float32') / 255.\n",
        "x_test = x_test.astype('float32') / 255.\n",
        "x_train = x_train.reshape((len(x_train), np.prod(x_train.shape[1:])))\n",
        "x_test = x_test.reshape((len(x_test), np.prod(x_test.shape[1:])))\n",
        "tensorboard = TensorBoard(log_dir='1', histogram_freq=0, write_graph=True, write_images=False)\n",
        "history=autoencoder.fit(x_train, x_train, epochs=22, batch_size=1024, shuffle=True, validation_data=(x_test, x_test),callbacks=[tensorboard])\n",
        "\n",
        "# Encoding data present in X_test tp predict reconstructed data\n",
        "encoded_images = encoder.predict(x_test)\n",
        "decoded_images = decoder.predict(encoded_images)\n",
        "\n",
        "import matplotlib.pyplot as plt\n",
        " # Displaying 10 digits\n",
        "\n",
        "n = 10 \n",
        "plt.figure(figsize=(20, 4))\n",
        "\n",
        "for i in range(n):\n",
        "    # Displaying original digits\n",
        "    ax = plt.subplot(3, n, i + 1)\n",
        "    plt.imshow(x_test[i].reshape(28, 28))\n",
        "    plt.gray()\n",
        "    ax.get_xaxis().set_visible(False)\n",
        "    ax.get_yaxis().set_visible(False)\n",
        "\n",
        "    # Displaying Reconstructed digits\n",
        "    ax = plt.subplot(3, n, i + 1+n)\n",
        "    plt.imshow(decoded_imgs[i].reshape(28, 28))\n",
        "    plt.gray()\n",
        "    ax.get_xaxis().set_visible(False)\n",
        "    ax.get_yaxis().set_visible(False)\n",
        "    plt.show()\n",
        "\n",
        "# Saving the model\n",
        "model_json = autoencoder.to_json()\n",
        "with open(\"model.json\", \"w\") as json_file:\n",
        "    json_file.write(model_json)\n",
        "\n",
        "# Saving weights\n",
        "autoencoder.save_weights(\"model.h5\")\n",
        "\n",
        "\n",
        "\n"
      ],
      "execution_count": 0,
      "outputs": [
        {
          "output_type": "stream",
          "text": [
            "Train on 60000 samples, validate on 10000 samples\n",
            "Epoch 1/22\n",
            "60000/60000 [==============================] - 4s 63us/step - loss: 0.6062 - acc: 0.5685 - val_loss: 0.3058 - val_acc: 0.7917\n",
            "Epoch 2/22\n",
            "60000/60000 [==============================] - 3s 58us/step - loss: 0.2873 - acc: 0.7945 - val_loss: 0.2808 - val_acc: 0.7936\n",
            "Epoch 3/22\n",
            "60000/60000 [==============================] - 4s 60us/step - loss: 0.2790 - acc: 0.7946 - val_loss: 0.2763 - val_acc: 0.7917\n",
            "Epoch 4/22\n",
            "60000/60000 [==============================] - 4s 61us/step - loss: 0.2756 - acc: 0.7946 - val_loss: 0.2738 - val_acc: 0.7935\n",
            "Epoch 5/22\n",
            "60000/60000 [==============================] - 4s 61us/step - loss: 0.2732 - acc: 0.7949 - val_loss: 0.2717 - val_acc: 0.7940\n",
            "Epoch 6/22\n",
            "60000/60000 [==============================] - 4s 61us/step - loss: 0.2710 - acc: 0.7955 - val_loss: 0.2694 - val_acc: 0.7958\n",
            "Epoch 7/22\n",
            "60000/60000 [==============================] - 4s 60us/step - loss: 0.2685 - acc: 0.7963 - val_loss: 0.2664 - val_acc: 0.7954\n",
            "Epoch 8/22\n",
            "60000/60000 [==============================] - 4s 61us/step - loss: 0.2652 - acc: 0.7971 - val_loss: 0.2625 - val_acc: 0.7969\n",
            "Epoch 9/22\n",
            "60000/60000 [==============================] - 4s 61us/step - loss: 0.2606 - acc: 0.7974 - val_loss: 0.2569 - val_acc: 0.7966\n",
            "Epoch 10/22\n",
            "60000/60000 [==============================] - 4s 61us/step - loss: 0.2549 - acc: 0.7967 - val_loss: 0.2508 - val_acc: 0.7955\n",
            "Epoch 11/22\n",
            "60000/60000 [==============================] - 4s 61us/step - loss: 0.2490 - acc: 0.7959 - val_loss: 0.2448 - val_acc: 0.7949\n",
            "Epoch 12/22\n",
            "60000/60000 [==============================] - 4s 61us/step - loss: 0.2435 - acc: 0.7955 - val_loss: 0.2394 - val_acc: 0.7949\n",
            "Epoch 13/22\n",
            "60000/60000 [==============================] - 4s 61us/step - loss: 0.2384 - acc: 0.7954 - val_loss: 0.2342 - val_acc: 0.7941\n",
            "Epoch 14/22\n",
            "60000/60000 [==============================] - 4s 61us/step - loss: 0.2336 - acc: 0.7952 - val_loss: 0.2297 - val_acc: 0.7948\n",
            "Epoch 15/22\n",
            "60000/60000 [==============================] - 4s 61us/step - loss: 0.2294 - acc: 0.7951 - val_loss: 0.2256 - val_acc: 0.7948\n",
            "Epoch 16/22\n",
            "60000/60000 [==============================] - 4s 62us/step - loss: 0.2255 - acc: 0.7954 - val_loss: 0.2217 - val_acc: 0.7954\n",
            "Epoch 17/22\n",
            "60000/60000 [==============================] - 4s 61us/step - loss: 0.2215 - acc: 0.7960 - val_loss: 0.2176 - val_acc: 0.7959\n",
            "Epoch 18/22\n",
            "60000/60000 [==============================] - 4s 62us/step - loss: 0.2174 - acc: 0.7964 - val_loss: 0.2136 - val_acc: 0.7964\n",
            "Epoch 19/22\n",
            "60000/60000 [==============================] - 4s 62us/step - loss: 0.2136 - acc: 0.7967 - val_loss: 0.2101 - val_acc: 0.7966\n",
            "Epoch 20/22\n",
            "60000/60000 [==============================] - 4s 61us/step - loss: 0.2103 - acc: 0.7969 - val_loss: 0.2071 - val_acc: 0.7966\n",
            "Epoch 21/22\n",
            "60000/60000 [==============================] - 4s 61us/step - loss: 0.2076 - acc: 0.7971 - val_loss: 0.2047 - val_acc: 0.7969\n",
            "Epoch 22/22\n",
            "60000/60000 [==============================] - 4s 62us/step - loss: 0.2054 - acc: 0.7972 - val_loss: 0.2026 - val_acc: 0.7970\n"
          ],
          "name": "stdout"
        },
        {
          "output_type": "display_data",
          "data": {
            "image/png": "[encoded data removed]",
            "text/plain": [
              "<Figure size 1440x288 with 20 Axes>"
            ]
          },
          "metadata": {
            "tags": []
          }
        }
      ]
    }
  ]
}